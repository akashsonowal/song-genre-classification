{
  "nbformat": 4,
  "nbformat_minor": 0,
  "metadata": {
    "colab": {
      "name": "song-genre-classifier.ipynb",
      "provenance": [],
      "mount_file_id": "1PDPVw7ZQa8--xf1rRxBPb-JvQBrC5HzA",
      "authorship_tag": "ABX9TyOQVAd1wJodfCHCTuf8sONC",
      "include_colab_link": true
    },
    "kernelspec": {
      "display_name": "Python 3",
      "name": "python3"
    },
    "language_info": {
      "name": "python"
    }
  },
  "cells": [
    {
      "cell_type": "markdown",
      "metadata": {
        "id": "view-in-github",
        "colab_type": "text"
      },
      "source": [
        "<a href=\"https://colab.research.google.com/github/akashsonowal/song-genre-classification/blob/main/song_genre_classifier.ipynb\" target=\"_parent\"><img src=\"https://colab.research.google.com/assets/colab-badge.svg\" alt=\"Open In Colab\"/></a>"
      ]
    },
    {
      "cell_type": "markdown",
      "metadata": {
        "id": "8w38bUlip5pE"
      },
      "source": [
        "**Preparing our dataset**\n",
        "\n",
        "These recommendations are so on point! How does this playlist know me so well?\n",
        "\n",
        "Over the past few years, streaming services with huge catalogs have  become the primary means through which most people listen to their favorite music. But at the same time, the sheer amount of music on offer can mean users might be a bit overwhelmed when trying to look for newer music that suits their tastes.\n",
        "\n",
        "For this reason, streaming services have looked into means of categorizing music to allow for personanalized recommendations. One method involves direct analysis of the raw audio information in a given song, scoring the raw data on a variety of metrics. Today, we'll be examining data compiled by a **research group known as The Echo Nest**. Our goal is to look through this dataset and classify songs as being either 'Hip-Hop' or 'Rock' - all without listening to a single one ourselves. In doing so, we will learn how to clean our data, do some exploratory data visualization, and use feature reduction towards the goal of feeding our data through some simple machine learning algorithms, such as decision trees and logistic regression.\n",
        "\n",
        "To begin with, let's load the metadata about our tracks alongside the track metrics compiled by The Echo Nest. A song is about more than its title, artist, and number of listens. We have another dataset that has musical features of each track such as danceability and acousticness on a scale from -1 to 1. These exist in two different files, which are in different formats - CSV and JSON. While CSV is a popular file format for denoting tabular data, JSON is another common file format in which databases often return the results of a given query.\n",
        "\n",
        "Let's start by creating two pandas DataFrames out of these files that we can merge so we have features and labels (often also referred to as X and y) for the classification later on."
      ]
    },
    {
      "cell_type": "code",
      "metadata": {
        "id": "WE50JMbshtN9"
      },
      "source": [
        "import pandas as pd\n",
        "\n",
        "# Read in track metadata with genre labels\n",
        "tracks = pd.read_csv('/content/drive/MyDrive/Projects/03. Song Genre Classification from Audio Data/datasets/fma-rock-vs-hiphop.csv')\n",
        "# Read in track metrics with the features\n",
        "echonest_metrics = pd.read_json('/content/drive/MyDrive/Projects/03. Song Genre Classification from Audio Data/datasets/echonest-metrics.json',precise_float = True)"
      ],
      "execution_count": 1,
      "outputs": []
    },
    {
      "cell_type": "code",
      "metadata": {
        "colab": {
          "base_uri": "https://localhost:8080/"
        },
        "id": "Q2vri2EHjMMB",
        "outputId": "b6834777-84ef-4a80-e0b4-cd4dcad66f80"
      },
      "source": [
        "tracks.shape"
      ],
      "execution_count": 2,
      "outputs": [
        {
          "output_type": "execute_result",
          "data": {
            "text/plain": [
              "(17734, 21)"
            ]
          },
          "metadata": {
            "tags": []
          },
          "execution_count": 2
        }
      ]
    },
    {
      "cell_type": "code",
      "metadata": {
        "colab": {
          "base_uri": "https://localhost:8080/"
        },
        "id": "kRURpH-Njdut",
        "outputId": "46d5ab68-d9ba-40fd-c491-e00f9069643a"
      },
      "source": [
        "echonest_metrics.shape"
      ],
      "execution_count": 3,
      "outputs": [
        {
          "output_type": "execute_result",
          "data": {
            "text/plain": [
              "(13129, 9)"
            ]
          },
          "metadata": {
            "tags": []
          },
          "execution_count": 3
        }
      ]
    },
    {
      "cell_type": "code",
      "metadata": {
        "colab": {
          "base_uri": "https://localhost:8080/",
          "height": 479
        },
        "id": "oa2oTZYzh6Mc",
        "outputId": "a890858e-a5c0-4c82-de63-ee6e6883a89d"
      },
      "source": [
        "tracks.head()"
      ],
      "execution_count": 4,
      "outputs": [
        {
          "output_type": "execute_result",
          "data": {
            "text/html": [
              "<div>\n",
              "<style scoped>\n",
              "    .dataframe tbody tr th:only-of-type {\n",
              "        vertical-align: middle;\n",
              "    }\n",
              "\n",
              "    .dataframe tbody tr th {\n",
              "        vertical-align: top;\n",
              "    }\n",
              "\n",
              "    .dataframe thead th {\n",
              "        text-align: right;\n",
              "    }\n",
              "</style>\n",
              "<table border=\"1\" class=\"dataframe\">\n",
              "  <thead>\n",
              "    <tr style=\"text-align: right;\">\n",
              "      <th></th>\n",
              "      <th>track_id</th>\n",
              "      <th>bit_rate</th>\n",
              "      <th>comments</th>\n",
              "      <th>composer</th>\n",
              "      <th>date_created</th>\n",
              "      <th>date_recorded</th>\n",
              "      <th>duration</th>\n",
              "      <th>favorites</th>\n",
              "      <th>genre_top</th>\n",
              "      <th>genres</th>\n",
              "      <th>genres_all</th>\n",
              "      <th>information</th>\n",
              "      <th>interest</th>\n",
              "      <th>language_code</th>\n",
              "      <th>license</th>\n",
              "      <th>listens</th>\n",
              "      <th>lyricist</th>\n",
              "      <th>number</th>\n",
              "      <th>publisher</th>\n",
              "      <th>tags</th>\n",
              "      <th>title</th>\n",
              "    </tr>\n",
              "  </thead>\n",
              "  <tbody>\n",
              "    <tr>\n",
              "      <th>0</th>\n",
              "      <td>135</td>\n",
              "      <td>256000</td>\n",
              "      <td>1</td>\n",
              "      <td>NaN</td>\n",
              "      <td>2008-11-26 01:43:26</td>\n",
              "      <td>2008-11-26 00:00:00</td>\n",
              "      <td>837</td>\n",
              "      <td>0</td>\n",
              "      <td>Rock</td>\n",
              "      <td>[45, 58]</td>\n",
              "      <td>[58, 12, 45]</td>\n",
              "      <td>NaN</td>\n",
              "      <td>2484</td>\n",
              "      <td>en</td>\n",
              "      <td>Attribution-NonCommercial-ShareAlike 3.0 Inter...</td>\n",
              "      <td>1832</td>\n",
              "      <td>NaN</td>\n",
              "      <td>0</td>\n",
              "      <td>NaN</td>\n",
              "      <td>[]</td>\n",
              "      <td>Father's Day</td>\n",
              "    </tr>\n",
              "    <tr>\n",
              "      <th>1</th>\n",
              "      <td>136</td>\n",
              "      <td>256000</td>\n",
              "      <td>1</td>\n",
              "      <td>NaN</td>\n",
              "      <td>2008-11-26 01:43:35</td>\n",
              "      <td>2008-11-26 00:00:00</td>\n",
              "      <td>509</td>\n",
              "      <td>0</td>\n",
              "      <td>Rock</td>\n",
              "      <td>[45, 58]</td>\n",
              "      <td>[58, 12, 45]</td>\n",
              "      <td>NaN</td>\n",
              "      <td>1948</td>\n",
              "      <td>en</td>\n",
              "      <td>Attribution-NonCommercial-ShareAlike 3.0 Inter...</td>\n",
              "      <td>1498</td>\n",
              "      <td>NaN</td>\n",
              "      <td>0</td>\n",
              "      <td>NaN</td>\n",
              "      <td>[]</td>\n",
              "      <td>Peel Back The Mountain Sky</td>\n",
              "    </tr>\n",
              "    <tr>\n",
              "      <th>2</th>\n",
              "      <td>151</td>\n",
              "      <td>192000</td>\n",
              "      <td>0</td>\n",
              "      <td>NaN</td>\n",
              "      <td>2008-11-26 01:44:55</td>\n",
              "      <td>NaN</td>\n",
              "      <td>192</td>\n",
              "      <td>0</td>\n",
              "      <td>Rock</td>\n",
              "      <td>[25]</td>\n",
              "      <td>[25, 12]</td>\n",
              "      <td>NaN</td>\n",
              "      <td>701</td>\n",
              "      <td>en</td>\n",
              "      <td>Attribution-NonCommercial-ShareAlike 3.0 Inter...</td>\n",
              "      <td>148</td>\n",
              "      <td>NaN</td>\n",
              "      <td>4</td>\n",
              "      <td>NaN</td>\n",
              "      <td>[]</td>\n",
              "      <td>Untitled 04</td>\n",
              "    </tr>\n",
              "    <tr>\n",
              "      <th>3</th>\n",
              "      <td>152</td>\n",
              "      <td>192000</td>\n",
              "      <td>0</td>\n",
              "      <td>NaN</td>\n",
              "      <td>2008-11-26 01:44:58</td>\n",
              "      <td>NaN</td>\n",
              "      <td>193</td>\n",
              "      <td>0</td>\n",
              "      <td>Rock</td>\n",
              "      <td>[25]</td>\n",
              "      <td>[25, 12]</td>\n",
              "      <td>NaN</td>\n",
              "      <td>637</td>\n",
              "      <td>en</td>\n",
              "      <td>Attribution-NonCommercial-ShareAlike 3.0 Inter...</td>\n",
              "      <td>98</td>\n",
              "      <td>NaN</td>\n",
              "      <td>11</td>\n",
              "      <td>NaN</td>\n",
              "      <td>[]</td>\n",
              "      <td>Untitled 11</td>\n",
              "    </tr>\n",
              "    <tr>\n",
              "      <th>4</th>\n",
              "      <td>153</td>\n",
              "      <td>256000</td>\n",
              "      <td>0</td>\n",
              "      <td>Arc and Sender</td>\n",
              "      <td>2008-11-26 01:45:00</td>\n",
              "      <td>2008-11-26 00:00:00</td>\n",
              "      <td>405</td>\n",
              "      <td>5</td>\n",
              "      <td>Rock</td>\n",
              "      <td>[26]</td>\n",
              "      <td>[26, 12]</td>\n",
              "      <td>NaN</td>\n",
              "      <td>354</td>\n",
              "      <td>en</td>\n",
              "      <td>Attribution-NonCommercial-NoDerivatives (aka M...</td>\n",
              "      <td>424</td>\n",
              "      <td>NaN</td>\n",
              "      <td>2</td>\n",
              "      <td>NaN</td>\n",
              "      <td>[]</td>\n",
              "      <td>Hundred-Year Flood</td>\n",
              "    </tr>\n",
              "  </tbody>\n",
              "</table>\n",
              "</div>"
            ],
            "text/plain": [
              "   track_id  bit_rate  comments  ... publisher tags                       title\n",
              "0       135    256000         1  ...       NaN   []                Father's Day\n",
              "1       136    256000         1  ...       NaN   []  Peel Back The Mountain Sky\n",
              "2       151    192000         0  ...       NaN   []                 Untitled 04\n",
              "3       152    192000         0  ...       NaN   []                 Untitled 11\n",
              "4       153    256000         0  ...       NaN   []          Hundred-Year Flood\n",
              "\n",
              "[5 rows x 21 columns]"
            ]
          },
          "metadata": {
            "tags": []
          },
          "execution_count": 4
        }
      ]
    },
    {
      "cell_type": "code",
      "metadata": {
        "colab": {
          "base_uri": "https://localhost:8080/",
          "height": 204
        },
        "id": "YYEwO3Y9iWJ7",
        "outputId": "0a4bd174-9b78-444a-bf33-eaf1ad45823c"
      },
      "source": [
        "echonest_metrics.head()"
      ],
      "execution_count": 5,
      "outputs": [
        {
          "output_type": "execute_result",
          "data": {
            "text/html": [
              "<div>\n",
              "<style scoped>\n",
              "    .dataframe tbody tr th:only-of-type {\n",
              "        vertical-align: middle;\n",
              "    }\n",
              "\n",
              "    .dataframe tbody tr th {\n",
              "        vertical-align: top;\n",
              "    }\n",
              "\n",
              "    .dataframe thead th {\n",
              "        text-align: right;\n",
              "    }\n",
              "</style>\n",
              "<table border=\"1\" class=\"dataframe\">\n",
              "  <thead>\n",
              "    <tr style=\"text-align: right;\">\n",
              "      <th></th>\n",
              "      <th>track_id</th>\n",
              "      <th>acousticness</th>\n",
              "      <th>danceability</th>\n",
              "      <th>energy</th>\n",
              "      <th>instrumentalness</th>\n",
              "      <th>liveness</th>\n",
              "      <th>speechiness</th>\n",
              "      <th>tempo</th>\n",
              "      <th>valence</th>\n",
              "    </tr>\n",
              "  </thead>\n",
              "  <tbody>\n",
              "    <tr>\n",
              "      <th>0</th>\n",
              "      <td>2</td>\n",
              "      <td>0.416675</td>\n",
              "      <td>0.675894</td>\n",
              "      <td>0.634476</td>\n",
              "      <td>0.010628</td>\n",
              "      <td>0.177647</td>\n",
              "      <td>0.159310</td>\n",
              "      <td>165.922</td>\n",
              "      <td>0.576661</td>\n",
              "    </tr>\n",
              "    <tr>\n",
              "      <th>1</th>\n",
              "      <td>3</td>\n",
              "      <td>0.374408</td>\n",
              "      <td>0.528643</td>\n",
              "      <td>0.817461</td>\n",
              "      <td>0.001851</td>\n",
              "      <td>0.105880</td>\n",
              "      <td>0.461818</td>\n",
              "      <td>126.957</td>\n",
              "      <td>0.269240</td>\n",
              "    </tr>\n",
              "    <tr>\n",
              "      <th>2</th>\n",
              "      <td>5</td>\n",
              "      <td>0.043567</td>\n",
              "      <td>0.745566</td>\n",
              "      <td>0.701470</td>\n",
              "      <td>0.000697</td>\n",
              "      <td>0.373143</td>\n",
              "      <td>0.124595</td>\n",
              "      <td>100.260</td>\n",
              "      <td>0.621661</td>\n",
              "    </tr>\n",
              "    <tr>\n",
              "      <th>3</th>\n",
              "      <td>10</td>\n",
              "      <td>0.951670</td>\n",
              "      <td>0.658179</td>\n",
              "      <td>0.924525</td>\n",
              "      <td>0.965427</td>\n",
              "      <td>0.115474</td>\n",
              "      <td>0.032985</td>\n",
              "      <td>111.562</td>\n",
              "      <td>0.963590</td>\n",
              "    </tr>\n",
              "    <tr>\n",
              "      <th>4</th>\n",
              "      <td>134</td>\n",
              "      <td>0.452217</td>\n",
              "      <td>0.513238</td>\n",
              "      <td>0.560410</td>\n",
              "      <td>0.019443</td>\n",
              "      <td>0.096567</td>\n",
              "      <td>0.525519</td>\n",
              "      <td>114.290</td>\n",
              "      <td>0.894072</td>\n",
              "    </tr>\n",
              "  </tbody>\n",
              "</table>\n",
              "</div>"
            ],
            "text/plain": [
              "   track_id  acousticness  danceability  ...  speechiness    tempo   valence\n",
              "0         2      0.416675      0.675894  ...     0.159310  165.922  0.576661\n",
              "1         3      0.374408      0.528643  ...     0.461818  126.957  0.269240\n",
              "2         5      0.043567      0.745566  ...     0.124595  100.260  0.621661\n",
              "3        10      0.951670      0.658179  ...     0.032985  111.562  0.963590\n",
              "4       134      0.452217      0.513238  ...     0.525519  114.290  0.894072\n",
              "\n",
              "[5 rows x 9 columns]"
            ]
          },
          "metadata": {
            "tags": []
          },
          "execution_count": 5
        }
      ]
    },
    {
      "cell_type": "code",
      "metadata": {
        "colab": {
          "base_uri": "https://localhost:8080/",
          "height": 204
        },
        "id": "PMDH-j98ia2V",
        "outputId": "8f9ab069-742a-42c2-b161-7b078509b818"
      },
      "source": [
        "# Merge the track_id and genre_top columns of tracks and echonest_metrics on track_id values\n",
        "echo_tracks = echonest_metrics.merge(tracks[['track_id', 'genre_top']], on='track_id')\n",
        "\n",
        "echo_tracks.head()"
      ],
      "execution_count": 6,
      "outputs": [
        {
          "output_type": "execute_result",
          "data": {
            "text/html": [
              "<div>\n",
              "<style scoped>\n",
              "    .dataframe tbody tr th:only-of-type {\n",
              "        vertical-align: middle;\n",
              "    }\n",
              "\n",
              "    .dataframe tbody tr th {\n",
              "        vertical-align: top;\n",
              "    }\n",
              "\n",
              "    .dataframe thead th {\n",
              "        text-align: right;\n",
              "    }\n",
              "</style>\n",
              "<table border=\"1\" class=\"dataframe\">\n",
              "  <thead>\n",
              "    <tr style=\"text-align: right;\">\n",
              "      <th></th>\n",
              "      <th>track_id</th>\n",
              "      <th>acousticness</th>\n",
              "      <th>danceability</th>\n",
              "      <th>energy</th>\n",
              "      <th>instrumentalness</th>\n",
              "      <th>liveness</th>\n",
              "      <th>speechiness</th>\n",
              "      <th>tempo</th>\n",
              "      <th>valence</th>\n",
              "      <th>genre_top</th>\n",
              "    </tr>\n",
              "  </thead>\n",
              "  <tbody>\n",
              "    <tr>\n",
              "      <th>0</th>\n",
              "      <td>2</td>\n",
              "      <td>0.416675</td>\n",
              "      <td>0.675894</td>\n",
              "      <td>0.634476</td>\n",
              "      <td>0.010628</td>\n",
              "      <td>0.177647</td>\n",
              "      <td>0.159310</td>\n",
              "      <td>165.922</td>\n",
              "      <td>0.576661</td>\n",
              "      <td>Hip-Hop</td>\n",
              "    </tr>\n",
              "    <tr>\n",
              "      <th>1</th>\n",
              "      <td>3</td>\n",
              "      <td>0.374408</td>\n",
              "      <td>0.528643</td>\n",
              "      <td>0.817461</td>\n",
              "      <td>0.001851</td>\n",
              "      <td>0.105880</td>\n",
              "      <td>0.461818</td>\n",
              "      <td>126.957</td>\n",
              "      <td>0.269240</td>\n",
              "      <td>Hip-Hop</td>\n",
              "    </tr>\n",
              "    <tr>\n",
              "      <th>2</th>\n",
              "      <td>5</td>\n",
              "      <td>0.043567</td>\n",
              "      <td>0.745566</td>\n",
              "      <td>0.701470</td>\n",
              "      <td>0.000697</td>\n",
              "      <td>0.373143</td>\n",
              "      <td>0.124595</td>\n",
              "      <td>100.260</td>\n",
              "      <td>0.621661</td>\n",
              "      <td>Hip-Hop</td>\n",
              "    </tr>\n",
              "    <tr>\n",
              "      <th>3</th>\n",
              "      <td>134</td>\n",
              "      <td>0.452217</td>\n",
              "      <td>0.513238</td>\n",
              "      <td>0.560410</td>\n",
              "      <td>0.019443</td>\n",
              "      <td>0.096567</td>\n",
              "      <td>0.525519</td>\n",
              "      <td>114.290</td>\n",
              "      <td>0.894072</td>\n",
              "      <td>Hip-Hop</td>\n",
              "    </tr>\n",
              "    <tr>\n",
              "      <th>4</th>\n",
              "      <td>153</td>\n",
              "      <td>0.988306</td>\n",
              "      <td>0.255661</td>\n",
              "      <td>0.979774</td>\n",
              "      <td>0.973006</td>\n",
              "      <td>0.121342</td>\n",
              "      <td>0.051740</td>\n",
              "      <td>90.241</td>\n",
              "      <td>0.034018</td>\n",
              "      <td>Rock</td>\n",
              "    </tr>\n",
              "  </tbody>\n",
              "</table>\n",
              "</div>"
            ],
            "text/plain": [
              "   track_id  acousticness  danceability  ...    tempo   valence  genre_top\n",
              "0         2      0.416675      0.675894  ...  165.922  0.576661    Hip-Hop\n",
              "1         3      0.374408      0.528643  ...  126.957  0.269240    Hip-Hop\n",
              "2         5      0.043567      0.745566  ...  100.260  0.621661    Hip-Hop\n",
              "3       134      0.452217      0.513238  ...  114.290  0.894072    Hip-Hop\n",
              "4       153      0.988306      0.255661  ...   90.241  0.034018       Rock\n",
              "\n",
              "[5 rows x 10 columns]"
            ]
          },
          "metadata": {
            "tags": []
          },
          "execution_count": 6
        }
      ]
    },
    {
      "cell_type": "code",
      "metadata": {
        "colab": {
          "base_uri": "https://localhost:8080/"
        },
        "id": "SUyxSGoXkzQJ",
        "outputId": "55c28b9a-adf0-45a8-8631-e691dc2a345d"
      },
      "source": [
        "echo_tracks.shape"
      ],
      "execution_count": 7,
      "outputs": [
        {
          "output_type": "execute_result",
          "data": {
            "text/plain": [
              "(4802, 10)"
            ]
          },
          "metadata": {
            "tags": []
          },
          "execution_count": 7
        }
      ]
    },
    {
      "cell_type": "code",
      "metadata": {
        "colab": {
          "base_uri": "https://localhost:8080/"
        },
        "id": "XbUkfZokida5",
        "outputId": "2b034d92-663a-4860-83fc-69484d1a4ebe"
      },
      "source": [
        "# Inspect the resultant dataframe\n",
        "echo_tracks.info()"
      ],
      "execution_count": 8,
      "outputs": [
        {
          "output_type": "stream",
          "text": [
            "<class 'pandas.core.frame.DataFrame'>\n",
            "Int64Index: 4802 entries, 0 to 4801\n",
            "Data columns (total 10 columns):\n",
            " #   Column            Non-Null Count  Dtype  \n",
            "---  ------            --------------  -----  \n",
            " 0   track_id          4802 non-null   int64  \n",
            " 1   acousticness      4802 non-null   float64\n",
            " 2   danceability      4802 non-null   float64\n",
            " 3   energy            4802 non-null   float64\n",
            " 4   instrumentalness  4802 non-null   float64\n",
            " 5   liveness          4802 non-null   float64\n",
            " 6   speechiness       4802 non-null   float64\n",
            " 7   tempo             4802 non-null   float64\n",
            " 8   valence           4802 non-null   float64\n",
            " 9   genre_top         4802 non-null   object \n",
            "dtypes: float64(8), int64(1), object(1)\n",
            "memory usage: 412.7+ KB\n"
          ],
          "name": "stdout"
        }
      ]
    },
    {
      "cell_type": "markdown",
      "metadata": {
        "id": "BzSJIyu_ilt7"
      },
      "source": [
        "**Pairwise relationships between continuous variables**\n",
        "\n",
        "We typically want to avoid using variables that have strong correlations with each other -- hence avoiding feature redundancy -- for a few reasons:\n",
        "\n",
        "To keep the model simple and improve interpretability (with many features, we run the risk of overfitting).\n",
        "When our datasets are very large, using fewer features can drastically speed up our computation time.\n",
        "To get a sense of whether there are any strongly correlated features in our data, we will use built-in functions in the pandas package."
      ]
    },
    {
      "cell_type": "code",
      "metadata": {
        "colab": {
          "base_uri": "https://localhost:8080/",
          "height": 229
        },
        "id": "koR1-pkgig1g",
        "outputId": "e5dca149-7299-4591-9453-3ccdfe1d8855"
      },
      "source": [
        "# Create a correlation matrix\n",
        "corr_metrics = echonest_metrics.corr()\n",
        "corr_metrics.style.background_gradient()"
      ],
      "execution_count": 9,
      "outputs": [
        {
          "output_type": "execute_result",
          "data": {
            "text/html": [
              "<style  type=\"text/css\" >\n",
              "#T_49fa3296_ff3d_11eb_b6c4_0242ac1c0002row0_col0,#T_49fa3296_ff3d_11eb_b6c4_0242ac1c0002row1_col1,#T_49fa3296_ff3d_11eb_b6c4_0242ac1c0002row2_col2,#T_49fa3296_ff3d_11eb_b6c4_0242ac1c0002row3_col3,#T_49fa3296_ff3d_11eb_b6c4_0242ac1c0002row4_col4,#T_49fa3296_ff3d_11eb_b6c4_0242ac1c0002row5_col5,#T_49fa3296_ff3d_11eb_b6c4_0242ac1c0002row6_col6,#T_49fa3296_ff3d_11eb_b6c4_0242ac1c0002row7_col7,#T_49fa3296_ff3d_11eb_b6c4_0242ac1c0002row8_col8{\n",
              "            background-color:  #023858;\n",
              "            color:  #f1f1f1;\n",
              "        }#T_49fa3296_ff3d_11eb_b6c4_0242ac1c0002row0_col1{\n",
              "            background-color:  #eae6f1;\n",
              "            color:  #000000;\n",
              "        }#T_49fa3296_ff3d_11eb_b6c4_0242ac1c0002row0_col2{\n",
              "            background-color:  #d2d2e7;\n",
              "            color:  #000000;\n",
              "        }#T_49fa3296_ff3d_11eb_b6c4_0242ac1c0002row0_col3{\n",
              "            background-color:  #9ab8d8;\n",
              "            color:  #000000;\n",
              "        }#T_49fa3296_ff3d_11eb_b6c4_0242ac1c0002row0_col4,#T_49fa3296_ff3d_11eb_b6c4_0242ac1c0002row1_col0,#T_49fa3296_ff3d_11eb_b6c4_0242ac1c0002row1_col2,#T_49fa3296_ff3d_11eb_b6c4_0242ac1c0002row1_col3,#T_49fa3296_ff3d_11eb_b6c4_0242ac1c0002row1_col7,#T_49fa3296_ff3d_11eb_b6c4_0242ac1c0002row2_col5,#T_49fa3296_ff3d_11eb_b6c4_0242ac1c0002row3_col1,#T_49fa3296_ff3d_11eb_b6c4_0242ac1c0002row4_col0,#T_49fa3296_ff3d_11eb_b6c4_0242ac1c0002row4_col6,#T_49fa3296_ff3d_11eb_b6c4_0242ac1c0002row4_col8{\n",
              "            background-color:  #fff7fb;\n",
              "            color:  #000000;\n",
              "        }#T_49fa3296_ff3d_11eb_b6c4_0242ac1c0002row0_col5{\n",
              "            background-color:  #ede7f2;\n",
              "            color:  #000000;\n",
              "        }#T_49fa3296_ff3d_11eb_b6c4_0242ac1c0002row0_col6{\n",
              "            background-color:  #eee8f3;\n",
              "            color:  #000000;\n",
              "        }#T_49fa3296_ff3d_11eb_b6c4_0242ac1c0002row0_col7{\n",
              "            background-color:  #f0eaf4;\n",
              "            color:  #000000;\n",
              "        }#T_49fa3296_ff3d_11eb_b6c4_0242ac1c0002row0_col8{\n",
              "            background-color:  #e8e4f0;\n",
              "            color:  #000000;\n",
              "        }#T_49fa3296_ff3d_11eb_b6c4_0242ac1c0002row1_col4{\n",
              "            background-color:  #bdc8e1;\n",
              "            color:  #000000;\n",
              "        }#T_49fa3296_ff3d_11eb_b6c4_0242ac1c0002row1_col5,#T_49fa3296_ff3d_11eb_b6c4_0242ac1c0002row6_col0{\n",
              "            background-color:  #e4e1ef;\n",
              "            color:  #000000;\n",
              "        }#T_49fa3296_ff3d_11eb_b6c4_0242ac1c0002row1_col6,#T_49fa3296_ff3d_11eb_b6c4_0242ac1c0002row6_col8{\n",
              "            background-color:  #d9d8ea;\n",
              "            color:  #000000;\n",
              "        }#T_49fa3296_ff3d_11eb_b6c4_0242ac1c0002row1_col8,#T_49fa3296_ff3d_11eb_b6c4_0242ac1c0002row6_col4{\n",
              "            background-color:  #f7f0f7;\n",
              "            color:  #000000;\n",
              "        }#T_49fa3296_ff3d_11eb_b6c4_0242ac1c0002row2_col0{\n",
              "            background-color:  #c0c9e2;\n",
              "            color:  #000000;\n",
              "        }#T_49fa3296_ff3d_11eb_b6c4_0242ac1c0002row2_col1{\n",
              "            background-color:  #dddbec;\n",
              "            color:  #000000;\n",
              "        }#T_49fa3296_ff3d_11eb_b6c4_0242ac1c0002row2_col3,#T_49fa3296_ff3d_11eb_b6c4_0242ac1c0002row5_col3{\n",
              "            background-color:  #adc1dd;\n",
              "            color:  #000000;\n",
              "        }#T_49fa3296_ff3d_11eb_b6c4_0242ac1c0002row2_col4,#T_49fa3296_ff3d_11eb_b6c4_0242ac1c0002row6_col7{\n",
              "            background-color:  #ece7f2;\n",
              "            color:  #000000;\n",
              "        }#T_49fa3296_ff3d_11eb_b6c4_0242ac1c0002row2_col6,#T_49fa3296_ff3d_11eb_b6c4_0242ac1c0002row3_col8,#T_49fa3296_ff3d_11eb_b6c4_0242ac1c0002row6_col3{\n",
              "            background-color:  #b9c6e0;\n",
              "            color:  #000000;\n",
              "        }#T_49fa3296_ff3d_11eb_b6c4_0242ac1c0002row2_col7{\n",
              "            background-color:  #fdf5fa;\n",
              "            color:  #000000;\n",
              "        }#T_49fa3296_ff3d_11eb_b6c4_0242ac1c0002row2_col8{\n",
              "            background-color:  #73a9cf;\n",
              "            color:  #000000;\n",
              "        }#T_49fa3296_ff3d_11eb_b6c4_0242ac1c0002row3_col0{\n",
              "            background-color:  #bbc7e0;\n",
              "            color:  #000000;\n",
              "        }#T_49fa3296_ff3d_11eb_b6c4_0242ac1c0002row3_col2{\n",
              "            background-color:  #dcdaeb;\n",
              "            color:  #000000;\n",
              "        }#T_49fa3296_ff3d_11eb_b6c4_0242ac1c0002row3_col4{\n",
              "            background-color:  #d7d6e9;\n",
              "            color:  #000000;\n",
              "        }#T_49fa3296_ff3d_11eb_b6c4_0242ac1c0002row3_col5{\n",
              "            background-color:  #e3e0ee;\n",
              "            color:  #000000;\n",
              "        }#T_49fa3296_ff3d_11eb_b6c4_0242ac1c0002row3_col6{\n",
              "            background-color:  #e2dfee;\n",
              "            color:  #000000;\n",
              "        }#T_49fa3296_ff3d_11eb_b6c4_0242ac1c0002row3_col7,#T_49fa3296_ff3d_11eb_b6c4_0242ac1c0002row6_col2{\n",
              "            background-color:  #bfc9e1;\n",
              "            color:  #000000;\n",
              "        }#T_49fa3296_ff3d_11eb_b6c4_0242ac1c0002row4_col1{\n",
              "            background-color:  #9ebad9;\n",
              "            color:  #000000;\n",
              "        }#T_49fa3296_ff3d_11eb_b6c4_0242ac1c0002row4_col2{\n",
              "            background-color:  #f6eff7;\n",
              "            color:  #000000;\n",
              "        }#T_49fa3296_ff3d_11eb_b6c4_0242ac1c0002row4_col3{\n",
              "            background-color:  #b8c6e0;\n",
              "            color:  #000000;\n",
              "        }#T_49fa3296_ff3d_11eb_b6c4_0242ac1c0002row4_col5{\n",
              "            background-color:  #f4eef6;\n",
              "            color:  #000000;\n",
              "        }#T_49fa3296_ff3d_11eb_b6c4_0242ac1c0002row4_col7,#T_49fa3296_ff3d_11eb_b6c4_0242ac1c0002row7_col5{\n",
              "            background-color:  #ede8f3;\n",
              "            color:  #000000;\n",
              "        }#T_49fa3296_ff3d_11eb_b6c4_0242ac1c0002row5_col0,#T_49fa3296_ff3d_11eb_b6c4_0242ac1c0002row8_col7{\n",
              "            background-color:  #d8d7e9;\n",
              "            color:  #000000;\n",
              "        }#T_49fa3296_ff3d_11eb_b6c4_0242ac1c0002row5_col1,#T_49fa3296_ff3d_11eb_b6c4_0242ac1c0002row6_col1{\n",
              "            background-color:  #afc1dd;\n",
              "            color:  #000000;\n",
              "        }#T_49fa3296_ff3d_11eb_b6c4_0242ac1c0002row5_col2{\n",
              "            background-color:  #faf2f8;\n",
              "            color:  #000000;\n",
              "        }#T_49fa3296_ff3d_11eb_b6c4_0242ac1c0002row5_col4{\n",
              "            background-color:  #e1dfed;\n",
              "            color:  #000000;\n",
              "        }#T_49fa3296_ff3d_11eb_b6c4_0242ac1c0002row5_col6,#T_49fa3296_ff3d_11eb_b6c4_0242ac1c0002row8_col0{\n",
              "            background-color:  #d3d4e7;\n",
              "            color:  #000000;\n",
              "        }#T_49fa3296_ff3d_11eb_b6c4_0242ac1c0002row5_col7{\n",
              "            background-color:  #f1ebf5;\n",
              "            color:  #000000;\n",
              "        }#T_49fa3296_ff3d_11eb_b6c4_0242ac1c0002row5_col8,#T_49fa3296_ff3d_11eb_b6c4_0242ac1c0002row8_col5{\n",
              "            background-color:  #eee9f3;\n",
              "            color:  #000000;\n",
              "        }#T_49fa3296_ff3d_11eb_b6c4_0242ac1c0002row6_col5{\n",
              "            background-color:  #dedcec;\n",
              "            color:  #000000;\n",
              "        }#T_49fa3296_ff3d_11eb_b6c4_0242ac1c0002row7_col0{\n",
              "            background-color:  #d6d6e9;\n",
              "            color:  #000000;\n",
              "        }#T_49fa3296_ff3d_11eb_b6c4_0242ac1c0002row7_col1{\n",
              "            background-color:  #d1d2e6;\n",
              "            color:  #000000;\n",
              "        }#T_49fa3296_ff3d_11eb_b6c4_0242ac1c0002row7_col2{\n",
              "            background-color:  #f3edf5;\n",
              "            color:  #000000;\n",
              "        }#T_49fa3296_ff3d_11eb_b6c4_0242ac1c0002row7_col3{\n",
              "            background-color:  #7dacd1;\n",
              "            color:  #000000;\n",
              "        }#T_49fa3296_ff3d_11eb_b6c4_0242ac1c0002row7_col4,#T_49fa3296_ff3d_11eb_b6c4_0242ac1c0002row7_col8{\n",
              "            background-color:  #d2d3e7;\n",
              "            color:  #000000;\n",
              "        }#T_49fa3296_ff3d_11eb_b6c4_0242ac1c0002row7_col6{\n",
              "            background-color:  #dad9ea;\n",
              "            color:  #000000;\n",
              "        }#T_49fa3296_ff3d_11eb_b6c4_0242ac1c0002row8_col1{\n",
              "            background-color:  #cccfe5;\n",
              "            color:  #000000;\n",
              "        }#T_49fa3296_ff3d_11eb_b6c4_0242ac1c0002row8_col2{\n",
              "            background-color:  #69a5cc;\n",
              "            color:  #000000;\n",
              "        }#T_49fa3296_ff3d_11eb_b6c4_0242ac1c0002row8_col3{\n",
              "            background-color:  #80aed2;\n",
              "            color:  #000000;\n",
              "        }#T_49fa3296_ff3d_11eb_b6c4_0242ac1c0002row8_col4{\n",
              "            background-color:  #efe9f3;\n",
              "            color:  #000000;\n",
              "        }#T_49fa3296_ff3d_11eb_b6c4_0242ac1c0002row8_col6{\n",
              "            background-color:  #ced0e6;\n",
              "            color:  #000000;\n",
              "        }</style><table id=\"T_49fa3296_ff3d_11eb_b6c4_0242ac1c0002\" ><thead>    <tr>        <th class=\"blank level0\" ></th>        <th class=\"col_heading level0 col0\" >track_id</th>        <th class=\"col_heading level0 col1\" >acousticness</th>        <th class=\"col_heading level0 col2\" >danceability</th>        <th class=\"col_heading level0 col3\" >energy</th>        <th class=\"col_heading level0 col4\" >instrumentalness</th>        <th class=\"col_heading level0 col5\" >liveness</th>        <th class=\"col_heading level0 col6\" >speechiness</th>        <th class=\"col_heading level0 col7\" >tempo</th>        <th class=\"col_heading level0 col8\" >valence</th>    </tr></thead><tbody>\n",
              "                <tr>\n",
              "                        <th id=\"T_49fa3296_ff3d_11eb_b6c4_0242ac1c0002level0_row0\" class=\"row_heading level0 row0\" >track_id</th>\n",
              "                        <td id=\"T_49fa3296_ff3d_11eb_b6c4_0242ac1c0002row0_col0\" class=\"data row0 col0\" >1.000000</td>\n",
              "                        <td id=\"T_49fa3296_ff3d_11eb_b6c4_0242ac1c0002row0_col1\" class=\"data row0 col1\" >-0.279829</td>\n",
              "                        <td id=\"T_49fa3296_ff3d_11eb_b6c4_0242ac1c0002row0_col2\" class=\"data row0 col2\" >0.102056</td>\n",
              "                        <td id=\"T_49fa3296_ff3d_11eb_b6c4_0242ac1c0002row0_col3\" class=\"data row0 col3\" >0.121991</td>\n",
              "                        <td id=\"T_49fa3296_ff3d_11eb_b6c4_0242ac1c0002row0_col4\" class=\"data row0 col4\" >-0.283206</td>\n",
              "                        <td id=\"T_49fa3296_ff3d_11eb_b6c4_0242ac1c0002row0_col5\" class=\"data row0 col5\" >-0.004059</td>\n",
              "                        <td id=\"T_49fa3296_ff3d_11eb_b6c4_0242ac1c0002row0_col6\" class=\"data row0 col6\" >-0.075077</td>\n",
              "                        <td id=\"T_49fa3296_ff3d_11eb_b6c4_0242ac1c0002row0_col7\" class=\"data row0 col7\" >0.004313</td>\n",
              "                        <td id=\"T_49fa3296_ff3d_11eb_b6c4_0242ac1c0002row0_col8\" class=\"data row0 col8\" >0.020201</td>\n",
              "            </tr>\n",
              "            <tr>\n",
              "                        <th id=\"T_49fa3296_ff3d_11eb_b6c4_0242ac1c0002level0_row1\" class=\"row_heading level0 row1\" >acousticness</th>\n",
              "                        <td id=\"T_49fa3296_ff3d_11eb_b6c4_0242ac1c0002row1_col0\" class=\"data row1 col0\" >-0.279829</td>\n",
              "                        <td id=\"T_49fa3296_ff3d_11eb_b6c4_0242ac1c0002row1_col1\" class=\"data row1 col1\" >1.000000</td>\n",
              "                        <td id=\"T_49fa3296_ff3d_11eb_b6c4_0242ac1c0002row1_col2\" class=\"data row1 col2\" >-0.189599</td>\n",
              "                        <td id=\"T_49fa3296_ff3d_11eb_b6c4_0242ac1c0002row1_col3\" class=\"data row1 col3\" >-0.477273</td>\n",
              "                        <td id=\"T_49fa3296_ff3d_11eb_b6c4_0242ac1c0002row1_col4\" class=\"data row1 col4\" >0.110033</td>\n",
              "                        <td id=\"T_49fa3296_ff3d_11eb_b6c4_0242ac1c0002row1_col5\" class=\"data row1 col5\" >0.041319</td>\n",
              "                        <td id=\"T_49fa3296_ff3d_11eb_b6c4_0242ac1c0002row1_col6\" class=\"data row1 col6\" >0.038785</td>\n",
              "                        <td id=\"T_49fa3296_ff3d_11eb_b6c4_0242ac1c0002row1_col7\" class=\"data row1 col7\" >-0.110701</td>\n",
              "                        <td id=\"T_49fa3296_ff3d_11eb_b6c4_0242ac1c0002row1_col8\" class=\"data row1 col8\" >-0.085436</td>\n",
              "            </tr>\n",
              "            <tr>\n",
              "                        <th id=\"T_49fa3296_ff3d_11eb_b6c4_0242ac1c0002level0_row2\" class=\"row_heading level0 row2\" >danceability</th>\n",
              "                        <td id=\"T_49fa3296_ff3d_11eb_b6c4_0242ac1c0002row2_col0\" class=\"data row2 col0\" >0.102056</td>\n",
              "                        <td id=\"T_49fa3296_ff3d_11eb_b6c4_0242ac1c0002row2_col1\" class=\"data row2 col1\" >-0.189599</td>\n",
              "                        <td id=\"T_49fa3296_ff3d_11eb_b6c4_0242ac1c0002row2_col2\" class=\"data row2 col2\" >1.000000</td>\n",
              "                        <td id=\"T_49fa3296_ff3d_11eb_b6c4_0242ac1c0002row2_col3\" class=\"data row2 col3\" >0.045345</td>\n",
              "                        <td id=\"T_49fa3296_ff3d_11eb_b6c4_0242ac1c0002row2_col4\" class=\"data row2 col4\" >-0.118033</td>\n",
              "                        <td id=\"T_49fa3296_ff3d_11eb_b6c4_0242ac1c0002row2_col5\" class=\"data row2 col5\" >-0.143339</td>\n",
              "                        <td id=\"T_49fa3296_ff3d_11eb_b6c4_0242ac1c0002row2_col6\" class=\"data row2 col6\" >0.171311</td>\n",
              "                        <td id=\"T_49fa3296_ff3d_11eb_b6c4_0242ac1c0002row2_col7\" class=\"data row2 col7\" >-0.094352</td>\n",
              "                        <td id=\"T_49fa3296_ff3d_11eb_b6c4_0242ac1c0002row2_col8\" class=\"data row2 col8\" >0.428515</td>\n",
              "            </tr>\n",
              "            <tr>\n",
              "                        <th id=\"T_49fa3296_ff3d_11eb_b6c4_0242ac1c0002level0_row3\" class=\"row_heading level0 row3\" >energy</th>\n",
              "                        <td id=\"T_49fa3296_ff3d_11eb_b6c4_0242ac1c0002row3_col0\" class=\"data row3 col0\" >0.121991</td>\n",
              "                        <td id=\"T_49fa3296_ff3d_11eb_b6c4_0242ac1c0002row3_col1\" class=\"data row3 col1\" >-0.477273</td>\n",
              "                        <td id=\"T_49fa3296_ff3d_11eb_b6c4_0242ac1c0002row3_col2\" class=\"data row3 col2\" >0.045345</td>\n",
              "                        <td id=\"T_49fa3296_ff3d_11eb_b6c4_0242ac1c0002row3_col3\" class=\"data row3 col3\" >1.000000</td>\n",
              "                        <td id=\"T_49fa3296_ff3d_11eb_b6c4_0242ac1c0002row3_col4\" class=\"data row3 col4\" >-0.002412</td>\n",
              "                        <td id=\"T_49fa3296_ff3d_11eb_b6c4_0242ac1c0002row3_col5\" class=\"data row3 col5\" >0.045752</td>\n",
              "                        <td id=\"T_49fa3296_ff3d_11eb_b6c4_0242ac1c0002row3_col6\" class=\"data row3 col6\" >-0.008645</td>\n",
              "                        <td id=\"T_49fa3296_ff3d_11eb_b6c4_0242ac1c0002row3_col7\" class=\"data row3 col7\" >0.227324</td>\n",
              "                        <td id=\"T_49fa3296_ff3d_11eb_b6c4_0242ac1c0002row3_col8\" class=\"data row3 col8\" >0.219384</td>\n",
              "            </tr>\n",
              "            <tr>\n",
              "                        <th id=\"T_49fa3296_ff3d_11eb_b6c4_0242ac1c0002level0_row4\" class=\"row_heading level0 row4\" >instrumentalness</th>\n",
              "                        <td id=\"T_49fa3296_ff3d_11eb_b6c4_0242ac1c0002row4_col0\" class=\"data row4 col0\" >-0.283206</td>\n",
              "                        <td id=\"T_49fa3296_ff3d_11eb_b6c4_0242ac1c0002row4_col1\" class=\"data row4 col1\" >0.110033</td>\n",
              "                        <td id=\"T_49fa3296_ff3d_11eb_b6c4_0242ac1c0002row4_col2\" class=\"data row4 col2\" >-0.118033</td>\n",
              "                        <td id=\"T_49fa3296_ff3d_11eb_b6c4_0242ac1c0002row4_col3\" class=\"data row4 col3\" >-0.002412</td>\n",
              "                        <td id=\"T_49fa3296_ff3d_11eb_b6c4_0242ac1c0002row4_col4\" class=\"data row4 col4\" >1.000000</td>\n",
              "                        <td id=\"T_49fa3296_ff3d_11eb_b6c4_0242ac1c0002row4_col5\" class=\"data row4 col5\" >-0.058593</td>\n",
              "                        <td id=\"T_49fa3296_ff3d_11eb_b6c4_0242ac1c0002row4_col6\" class=\"data row4 col6\" >-0.216689</td>\n",
              "                        <td id=\"T_49fa3296_ff3d_11eb_b6c4_0242ac1c0002row4_col7\" class=\"data row4 col7\" >0.023003</td>\n",
              "                        <td id=\"T_49fa3296_ff3d_11eb_b6c4_0242ac1c0002row4_col8\" class=\"data row4 col8\" >-0.145200</td>\n",
              "            </tr>\n",
              "            <tr>\n",
              "                        <th id=\"T_49fa3296_ff3d_11eb_b6c4_0242ac1c0002level0_row5\" class=\"row_heading level0 row5\" >liveness</th>\n",
              "                        <td id=\"T_49fa3296_ff3d_11eb_b6c4_0242ac1c0002row5_col0\" class=\"data row5 col0\" >-0.004059</td>\n",
              "                        <td id=\"T_49fa3296_ff3d_11eb_b6c4_0242ac1c0002row5_col1\" class=\"data row5 col1\" >0.041319</td>\n",
              "                        <td id=\"T_49fa3296_ff3d_11eb_b6c4_0242ac1c0002row5_col2\" class=\"data row5 col2\" >-0.143339</td>\n",
              "                        <td id=\"T_49fa3296_ff3d_11eb_b6c4_0242ac1c0002row5_col3\" class=\"data row5 col3\" >0.045752</td>\n",
              "                        <td id=\"T_49fa3296_ff3d_11eb_b6c4_0242ac1c0002row5_col4\" class=\"data row5 col4\" >-0.058593</td>\n",
              "                        <td id=\"T_49fa3296_ff3d_11eb_b6c4_0242ac1c0002row5_col5\" class=\"data row5 col5\" >1.000000</td>\n",
              "                        <td id=\"T_49fa3296_ff3d_11eb_b6c4_0242ac1c0002row5_col6\" class=\"data row5 col6\" >0.073104</td>\n",
              "                        <td id=\"T_49fa3296_ff3d_11eb_b6c4_0242ac1c0002row5_col7\" class=\"data row5 col7\" >-0.007566</td>\n",
              "                        <td id=\"T_49fa3296_ff3d_11eb_b6c4_0242ac1c0002row5_col8\" class=\"data row5 col8\" >-0.017886</td>\n",
              "            </tr>\n",
              "            <tr>\n",
              "                        <th id=\"T_49fa3296_ff3d_11eb_b6c4_0242ac1c0002level0_row6\" class=\"row_heading level0 row6\" >speechiness</th>\n",
              "                        <td id=\"T_49fa3296_ff3d_11eb_b6c4_0242ac1c0002row6_col0\" class=\"data row6 col0\" >-0.075077</td>\n",
              "                        <td id=\"T_49fa3296_ff3d_11eb_b6c4_0242ac1c0002row6_col1\" class=\"data row6 col1\" >0.038785</td>\n",
              "                        <td id=\"T_49fa3296_ff3d_11eb_b6c4_0242ac1c0002row6_col2\" class=\"data row6 col2\" >0.171311</td>\n",
              "                        <td id=\"T_49fa3296_ff3d_11eb_b6c4_0242ac1c0002row6_col3\" class=\"data row6 col3\" >-0.008645</td>\n",
              "                        <td id=\"T_49fa3296_ff3d_11eb_b6c4_0242ac1c0002row6_col4\" class=\"data row6 col4\" >-0.216689</td>\n",
              "                        <td id=\"T_49fa3296_ff3d_11eb_b6c4_0242ac1c0002row6_col5\" class=\"data row6 col5\" >0.073104</td>\n",
              "                        <td id=\"T_49fa3296_ff3d_11eb_b6c4_0242ac1c0002row6_col6\" class=\"data row6 col6\" >1.000000</td>\n",
              "                        <td id=\"T_49fa3296_ff3d_11eb_b6c4_0242ac1c0002row6_col7\" class=\"data row6 col7\" >0.032188</td>\n",
              "                        <td id=\"T_49fa3296_ff3d_11eb_b6c4_0242ac1c0002row6_col8\" class=\"data row6 col8\" >0.094794</td>\n",
              "            </tr>\n",
              "            <tr>\n",
              "                        <th id=\"T_49fa3296_ff3d_11eb_b6c4_0242ac1c0002level0_row7\" class=\"row_heading level0 row7\" >tempo</th>\n",
              "                        <td id=\"T_49fa3296_ff3d_11eb_b6c4_0242ac1c0002row7_col0\" class=\"data row7 col0\" >0.004313</td>\n",
              "                        <td id=\"T_49fa3296_ff3d_11eb_b6c4_0242ac1c0002row7_col1\" class=\"data row7 col1\" >-0.110701</td>\n",
              "                        <td id=\"T_49fa3296_ff3d_11eb_b6c4_0242ac1c0002row7_col2\" class=\"data row7 col2\" >-0.094352</td>\n",
              "                        <td id=\"T_49fa3296_ff3d_11eb_b6c4_0242ac1c0002row7_col3\" class=\"data row7 col3\" >0.227324</td>\n",
              "                        <td id=\"T_49fa3296_ff3d_11eb_b6c4_0242ac1c0002row7_col4\" class=\"data row7 col4\" >0.023003</td>\n",
              "                        <td id=\"T_49fa3296_ff3d_11eb_b6c4_0242ac1c0002row7_col5\" class=\"data row7 col5\" >-0.007566</td>\n",
              "                        <td id=\"T_49fa3296_ff3d_11eb_b6c4_0242ac1c0002row7_col6\" class=\"data row7 col6\" >0.032188</td>\n",
              "                        <td id=\"T_49fa3296_ff3d_11eb_b6c4_0242ac1c0002row7_col7\" class=\"data row7 col7\" >1.000000</td>\n",
              "                        <td id=\"T_49fa3296_ff3d_11eb_b6c4_0242ac1c0002row7_col8\" class=\"data row7 col8\" >0.129911</td>\n",
              "            </tr>\n",
              "            <tr>\n",
              "                        <th id=\"T_49fa3296_ff3d_11eb_b6c4_0242ac1c0002level0_row8\" class=\"row_heading level0 row8\" >valence</th>\n",
              "                        <td id=\"T_49fa3296_ff3d_11eb_b6c4_0242ac1c0002row8_col0\" class=\"data row8 col0\" >0.020201</td>\n",
              "                        <td id=\"T_49fa3296_ff3d_11eb_b6c4_0242ac1c0002row8_col1\" class=\"data row8 col1\" >-0.085436</td>\n",
              "                        <td id=\"T_49fa3296_ff3d_11eb_b6c4_0242ac1c0002row8_col2\" class=\"data row8 col2\" >0.428515</td>\n",
              "                        <td id=\"T_49fa3296_ff3d_11eb_b6c4_0242ac1c0002row8_col3\" class=\"data row8 col3\" >0.219384</td>\n",
              "                        <td id=\"T_49fa3296_ff3d_11eb_b6c4_0242ac1c0002row8_col4\" class=\"data row8 col4\" >-0.145200</td>\n",
              "                        <td id=\"T_49fa3296_ff3d_11eb_b6c4_0242ac1c0002row8_col5\" class=\"data row8 col5\" >-0.017886</td>\n",
              "                        <td id=\"T_49fa3296_ff3d_11eb_b6c4_0242ac1c0002row8_col6\" class=\"data row8 col6\" >0.094794</td>\n",
              "                        <td id=\"T_49fa3296_ff3d_11eb_b6c4_0242ac1c0002row8_col7\" class=\"data row8 col7\" >0.129911</td>\n",
              "                        <td id=\"T_49fa3296_ff3d_11eb_b6c4_0242ac1c0002row8_col8\" class=\"data row8 col8\" >1.000000</td>\n",
              "            </tr>\n",
              "    </tbody></table>"
            ],
            "text/plain": [
              "<pandas.io.formats.style.Styler at 0x7f358f6fe3d0>"
            ]
          },
          "metadata": {
            "tags": []
          },
          "execution_count": 9
        }
      ]
    },
    {
      "cell_type": "markdown",
      "metadata": {
        "id": "nkb1LXXfiugK"
      },
      "source": [
        "Here we can see an interesting correlation between danceability and valence, but it's not strong enough."
      ]
    },
    {
      "cell_type": "markdown",
      "metadata": {
        "id": "unwE4gkmixOV"
      },
      "source": [
        "**Normalizing the feature data**\n",
        "\n",
        "As mentioned earlier, it can be particularly useful to simplify our models and use as few features as necessary to achieve the best result. Since we didn't find any particular strong correlations between our features, we can instead use a common approach to reduce the number of features called principal component analysis (PCA).\n",
        "\n",
        "It is possible that the variance between genres can be explained by just a few features in the dataset. PCA rotates the data along the axis of highest variance, thus allowing us to determine the relative contribution of each feature of our data towards the variance between classes.\n",
        "\n",
        "However, since PCA uses the absolute variance of a feature to rotate the data, a feature with a broader range of values will overpower and bias the algorithm relative to the other features. To avoid this, we must first normalize our data. There are a few methods to do this, but a common way is through standardization, such that all features have a mean = 0 and standard deviation = 1 (the resultant is a z-score)."
      ]
    },
    {
      "cell_type": "code",
      "metadata": {
        "id": "aD93Er0Dip-A"
      },
      "source": [
        "# Define our features \n",
        "features = echo_tracks.drop(['genre_top', 'track_id'], axis = 1)\n",
        "\n",
        "# Define our labels\n",
        "labels = echo_tracks['genre_top']\n",
        "\n",
        "# Import the StandardScaler\n",
        "from sklearn.preprocessing import StandardScaler\n",
        "\n",
        "# Scale the features and set the values to a new variable\n",
        "scaler = StandardScaler()\n",
        "scaled_train_features = scaler.fit_transform(features)"
      ],
      "execution_count": 10,
      "outputs": []
    },
    {
      "cell_type": "markdown",
      "metadata": {
        "id": "F2Edc2-fi6rJ"
      },
      "source": [
        "**Principal Component Analysis on our scaled data**\n",
        "\n",
        "Now that we have preprocessed our data, we are ready to use PCA to determine by how much we can reduce the dimensionality of our data. We can use scree-plots and cumulative explained ratio plots to find the number of components to use in further analyses.\n",
        "\n",
        "Scree-plots display the number of components against the variance explained by each component, sorted in descending order of variance. Scree-plots help us get a better sense of which components explain a sufficient amount of variance in our data. When using scree plots, an 'elbow' (a steep drop from one data point to the next) in the plot is typically used to decide on an appropriate cutoff."
      ]
    },
    {
      "cell_type": "code",
      "metadata": {
        "colab": {
          "base_uri": "https://localhost:8080/"
        },
        "id": "CZ5VQ2dyi36G",
        "outputId": "ab39ae04-a966-40ea-fbf1-ae5d20118230"
      },
      "source": [
        "# This is just to make plots appear in the notebook\n",
        "%matplotlib inline\n",
        "\n",
        "# Import our plotting module, and PCA class\n",
        "import matplotlib.pyplot as plt\n",
        "from sklearn.decomposition import PCA\n",
        "\n",
        "# Get our explained variance ratios from PCA using all features\n",
        "pca = PCA()\n",
        "pca.fit(scaled_train_features)\n",
        "exp_variance = pca.explained_variance_ratio_\n",
        "exp_variance"
      ],
      "execution_count": 11,
      "outputs": [
        {
          "output_type": "execute_result",
          "data": {
            "text/plain": [
              "array([0.24297674, 0.18044316, 0.13650309, 0.12994089, 0.11056248,\n",
              "       0.08302245, 0.06923783, 0.04731336])"
            ]
          },
          "metadata": {
            "tags": []
          },
          "execution_count": 11
        }
      ]
    },
    {
      "cell_type": "code",
      "metadata": {
        "id": "vkr5c0A9i_AW",
        "colab": {
          "base_uri": "https://localhost:8080/",
          "height": 279
        },
        "outputId": "faed18f0-c648-4247-ffec-876c18ef0fb3"
      },
      "source": [
        "# plot the explained variance using a barplot\n",
        "fig, ax = plt.subplots()\n",
        "ax.bar(range(pca.n_components_),exp_variance)\n",
        "ax.set_xlabel('Principal Component #')\n",
        "plt.show()"
      ],
      "execution_count": 12,
      "outputs": [
        {
          "output_type": "display_data",
          "data": {
            "image/png": "[encoded data removed]",
            "text/plain": [
              "<Figure size 432x288 with 1 Axes>"
            ]
          },
          "metadata": {
            "tags": [],
            "needs_background": "light"
          }
        }
      ]
    },
    {
      "cell_type": "markdown",
      "metadata": {
        "id": "fsIun2wljFBw"
      },
      "source": [
        "**Further visualization of PCA**\n",
        "\n",
        "Unfortunately, there does not appear to be a clear elbow in this scree plot, which means it is not straightforward to find the number of intrinsic dimensions using this method.\n",
        "\n",
        "But all is not lost! Instead, we can also look at the cumulative explained variance plot to determine how many features are required to explain, say, about 90% of the variance (cutoffs are somewhat arbitrary here, and usually decided upon by 'rules of thumb'). Once we determine the appropriate number of components, we can perform PCA with that many components, ideally reducing the dimensionality of our data."
      ]
    },
    {
      "cell_type": "code",
      "metadata": {
        "id": "PR6VnM2EjBa4",
        "colab": {
          "base_uri": "https://localhost:8080/"
        },
        "outputId": "f22c33f3-b821-4f9c-dfea-6103dd622ec2"
      },
      "source": [
        "# Import numpy\n",
        "import numpy as np\n",
        "\n",
        "# Calculate the cumulative explained variance\n",
        "cum_exp_variance = np.cumsum(exp_variance)\n",
        "cum_exp_variance"
      ],
      "execution_count": 13,
      "outputs": [
        {
          "output_type": "execute_result",
          "data": {
            "text/plain": [
              "array([0.24297674, 0.4234199 , 0.55992299, 0.68986388, 0.80042636,\n",
              "       0.88344881, 0.95268664, 1.        ])"
            ]
          },
          "metadata": {
            "tags": []
          },
          "execution_count": 13
        }
      ]
    },
    {
      "cell_type": "code",
      "metadata": {
        "id": "Nh9nStwCjJvj",
        "colab": {
          "base_uri": "https://localhost:8080/",
          "height": 265
        },
        "outputId": "1290f84d-5fab-4dda-cf7b-aca788932c3c"
      },
      "source": [
        "# Plot the cumulative explained variance and draw a dashed line at 0.90.\n",
        "fig, ax = plt.subplots()\n",
        "ax.plot(cum_exp_variance)\n",
        "ax.axhline(y=0.9, linestyle='--')\n",
        "plt.show()"
      ],
      "execution_count": 14,
      "outputs": [
        {
          "output_type": "display_data",
          "data": {
            "image/png": "[encoded data removed]",
            "text/plain": [
              "<Figure size 432x288 with 1 Axes>"
            ]
          },
          "metadata": {
            "tags": [],
            "needs_background": "light"
          }
        }
      ]
    },
    {
      "cell_type": "code",
      "metadata": {
        "id": "bX-63YHejMdR"
      },
      "source": [
        "n_components = 6\n",
        "\n",
        "# Perform PCA with the chosen number of components and project data onto components\n",
        "pca = PCA(n_components, random_state=10)\n",
        "pca.fit(scaled_train_features)\n",
        "pca_projection = pca.transform(scaled_train_features)"
      ],
      "execution_count": 15,
      "outputs": []
    },
    {
      "cell_type": "code",
      "metadata": {
        "id": "EvV_dOo9jPVB",
        "colab": {
          "base_uri": "https://localhost:8080/"
        },
        "outputId": "28091812-6507-4220-e6c0-0cbf722ceabc"
      },
      "source": [
        "pca_projection.shape"
      ],
      "execution_count": 16,
      "outputs": [
        {
          "output_type": "execute_result",
          "data": {
            "text/plain": [
              "(4802, 6)"
            ]
          },
          "metadata": {
            "tags": []
          },
          "execution_count": 16
        }
      ]
    },
    {
      "cell_type": "markdown",
      "metadata": {
        "id": "Orfs9y0gjXE-"
      },
      "source": [
        "**Train a decision tree to classify genre**\n",
        "\n",
        "Now we can use the lower dimensional PCA projection of the data to classify songs into genres. To do that, we first need to split our dataset into 'train' and 'test' subsets, where the 'train' subset will be used to train our model while the 'test' dataset allows for model performance validation.\n",
        "\n",
        "Here, we will be using a simple algorithm known as a decision tree. Decision trees are rule-based classifiers that take in features and follow a 'tree structure' of binary decisions to ultimately classify a data point into one of two or more categories. In addition to being easy to both use and interpret, decision trees allow us to visualize the 'logic flowchart' that the model generates from the training data.\n",
        "\n",
        "Here is an example of a decision tree that demonstrates the process by which an input image (in this case, of a shape) might be classified based on the number of sides it has and whether it is rotated.\n",
        "\n"
      ]
    },
    {
      "cell_type": "code",
      "metadata": {
        "id": "c_ov3rCPjRZN"
      },
      "source": [
        "# Import train_test_split function and Decision tree classifier\n",
        "from sklearn.model_selection import train_test_split\n",
        "\n",
        "# Split our data\n",
        "train_features, test_features, train_labels, test_labels = train_test_split(pca_projection, labels, random_state=10)"
      ],
      "execution_count": 17,
      "outputs": []
    },
    {
      "cell_type": "code",
      "metadata": {
        "colab": {
          "base_uri": "https://localhost:8080/"
        },
        "id": "Qwnm_qnqIBD8",
        "outputId": "ba957d93-f48d-4dc4-c48a-c0948f3064bf"
      },
      "source": [
        "train_labels.value_counts()"
      ],
      "execution_count": 18,
      "outputs": [
        {
          "output_type": "execute_result",
          "data": {
            "text/plain": [
              "Rock       2926\n",
              "Hip-Hop     675\n",
              "Name: genre_top, dtype: int64"
            ]
          },
          "metadata": {
            "tags": []
          },
          "execution_count": 18
        }
      ]
    },
    {
      "cell_type": "code",
      "metadata": {
        "colab": {
          "base_uri": "https://localhost:8080/"
        },
        "id": "ByxIm89EHkUv",
        "outputId": "2ff0e9b2-fe61-4966-c977-3d3881d21ae7"
      },
      "source": [
        "\n",
        "from imblearn.over_sampling import SMOTE\n",
        "sm = SMOTE(random_state = 2)\n",
        "train_features, train_labels = sm.fit_sample(train_features, train_labels.ravel())"
      ],
      "execution_count": 19,
      "outputs": [
        {
          "output_type": "stream",
          "text": [
            "/usr/local/lib/python3.7/dist-packages/sklearn/externals/six.py:31: FutureWarning: The module is deprecated in version 0.21 and will be removed in version 0.23 since we've dropped support for Python 2.7. Please rely on the official version of six (https://pypi.org/project/six/).\n",
            "  \"(https://pypi.org/project/six/).\", FutureWarning)\n",
            "/usr/local/lib/python3.7/dist-packages/sklearn/utils/deprecation.py:144: FutureWarning: The sklearn.neighbors.base module is  deprecated in version 0.22 and will be removed in version 0.24. The corresponding classes / functions should instead be imported from sklearn.neighbors. Anything that cannot be imported from sklearn.neighbors is now part of the private API.\n",
            "  warnings.warn(message, FutureWarning)\n",
            "/usr/local/lib/python3.7/dist-packages/sklearn/utils/deprecation.py:87: FutureWarning: Function safe_indexing is deprecated; safe_indexing is deprecated in version 0.22 and will be removed in version 0.24.\n",
            "  warnings.warn(msg, category=FutureWarning)\n"
          ],
          "name": "stderr"
        }
      ]
    },
    {
      "cell_type": "code",
      "metadata": {
        "colab": {
          "base_uri": "https://localhost:8080/"
        },
        "id": "Do7192X8I5ck",
        "outputId": "18431685-f7ef-42c7-acba-481ae82baf16"
      },
      "source": [
        "unique, count = np.unique(train_labels, return_counts=True)\n",
        "print(unique[0],\":\",count[0])\n",
        "print(unique[1],\":\",count[1])"
      ],
      "execution_count": 20,
      "outputs": [
        {
          "output_type": "stream",
          "text": [
            "Hip-Hop : 2926\n",
            "Rock : 2926\n"
          ],
          "name": "stdout"
        }
      ]
    },
    {
      "cell_type": "code",
      "metadata": {
        "id": "b3R78DWuHdVZ"
      },
      "source": [
        "# Train our decision tree\n",
        "from sklearn.tree import DecisionTreeClassifier\n",
        "tree = DecisionTreeClassifier(random_state = 10)\n",
        "tree.fit(train_features, train_labels)\n",
        "\n",
        "# Predict the labels for the test data\n",
        "pred_labels_tree = tree.predict(test_features)"
      ],
      "execution_count": 21,
      "outputs": []
    },
    {
      "cell_type": "code",
      "metadata": {
        "id": "8kAtvschjc_x",
        "colab": {
          "base_uri": "https://localhost:8080/"
        },
        "outputId": "330cb812-df4e-4d31-8880-bf6f01642d1f"
      },
      "source": [
        "from sklearn.metrics import accuracy_score\n",
        "accuracy_score(test_labels, pred_labels_tree)"
      ],
      "execution_count": 22,
      "outputs": [
        {
          "output_type": "execute_result",
          "data": {
            "text/plain": [
              "0.839300582847627"
            ]
          },
          "metadata": {
            "tags": []
          },
          "execution_count": 22
        }
      ]
    },
    {
      "cell_type": "code",
      "metadata": {
        "id": "VHMfUcvVjfqY",
        "colab": {
          "base_uri": "https://localhost:8080/"
        },
        "outputId": "fb5416de-e0af-4c2f-e903-d3d27e165aa1"
      },
      "source": [
        "labels.value_counts()"
      ],
      "execution_count": 23,
      "outputs": [
        {
          "output_type": "execute_result",
          "data": {
            "text/plain": [
              "Rock       3892\n",
              "Hip-Hop     910\n",
              "Name: genre_top, dtype: int64"
            ]
          },
          "metadata": {
            "tags": []
          },
          "execution_count": 23
        }
      ]
    },
    {
      "cell_type": "markdown",
      "metadata": {
        "id": "NB8aPRF7jkT9"
      },
      "source": [
        "Our data is imbalanced, so here accuracy is not really a good metric. Let's look at the confusion matrix."
      ]
    },
    {
      "cell_type": "code",
      "metadata": {
        "id": "2H70xgnljh2x",
        "colab": {
          "base_uri": "https://localhost:8080/"
        },
        "outputId": "d577c2fa-26d8-4048-fa76-7d73ce3acbb4"
      },
      "source": [
        "from sklearn.metrics import confusion_matrix\n",
        "confusion_matrix(test_labels, pred_labels_tree)"
      ],
      "execution_count": 24,
      "outputs": [
        {
          "output_type": "execute_result",
          "data": {
            "text/plain": [
              "array([[153,  82],\n",
              "       [111, 855]])"
            ]
          },
          "metadata": {
            "tags": []
          },
          "execution_count": 24
        }
      ]
    },
    {
      "cell_type": "markdown",
      "metadata": {
        "id": "cumkcbX9jpHR"
      },
      "source": [
        "**Compare our decision tree to a logistic regression**\n",
        "\n",
        "Although our tree's performance is decent, it's a bad idea to immediately assume that it's therefore the perfect tool for this job -- there's always the possibility of other models that will perform even better! It's always a worthwhile idea to at least test a few other algorithms and find the one that's best for our data.\n",
        "\n",
        "Sometimes simplest is best, and so we will start by applying logistic regression. Logistic regression makes use of what's called the logistic function to calculate the odds that a given data point belongs to a given class. Once we have both models, we can compare them on a few performance metrics, such as false positive and false negative rate (or how many points are inaccurately classified)."
      ]
    },
    {
      "cell_type": "code",
      "metadata": {
        "id": "xDKJLYyPjmzQ"
      },
      "source": [
        "# Import LogisticRegression\n",
        "from sklearn.linear_model import LogisticRegression\n",
        "\n",
        "# Train our logistic regression and predict labels for the test set\n",
        "logreg = LogisticRegression(random_state = 10)\n",
        "logreg.fit(train_features, train_labels)\n",
        "pred_labels_logit = logreg.predict(test_features)"
      ],
      "execution_count": 25,
      "outputs": []
    },
    {
      "cell_type": "code",
      "metadata": {
        "colab": {
          "base_uri": "https://localhost:8080/"
        },
        "id": "T78UW2gECgAL",
        "outputId": "70456ffc-7484-462b-85c3-f022a420a69f"
      },
      "source": [
        "accuracy_score(test_labels, pred_labels_logit)"
      ],
      "execution_count": 26,
      "outputs": [
        {
          "output_type": "execute_result",
          "data": {
            "text/plain": [
              "0.8218151540383014"
            ]
          },
          "metadata": {
            "tags": []
          },
          "execution_count": 26
        }
      ]
    },
    {
      "cell_type": "code",
      "metadata": {
        "id": "SgHL2fOeVc85",
        "colab": {
          "base_uri": "https://localhost:8080/"
        },
        "outputId": "aed2d1d0-61b6-4ea1-889f-df8bc705faaf"
      },
      "source": [
        "confusion_matrix(test_labels, pred_labels_logit)"
      ],
      "execution_count": 27,
      "outputs": [
        {
          "output_type": "execute_result",
          "data": {
            "text/plain": [
              "array([[190,  45],\n",
              "       [169, 797]])"
            ]
          },
          "metadata": {
            "tags": []
          },
          "execution_count": 27
        }
      ]
    },
    {
      "cell_type": "code",
      "metadata": {
        "colab": {
          "base_uri": "https://localhost:8080/"
        },
        "id": "Z6AsdfhHCWQr",
        "outputId": "55d67b9c-5c82-472b-a98c-6eef8bcc06fc"
      },
      "source": [
        "# Create the classification report for both models\n",
        "from sklearn.metrics import classification_report\n",
        "class_rep_tree = classification_report(test_labels, pred_labels_tree)\n",
        "class_rep_log = classification_report(test_labels, pred_labels_logit)\n",
        "print(\"Decision Tree: \\n\", class_rep_tree)\n",
        "print(\"Logistic Regression: \\n\", class_rep_log)"
      ],
      "execution_count": 28,
      "outputs": [
        {
          "output_type": "stream",
          "text": [
            "Decision Tree: \n",
            "               precision    recall  f1-score   support\n",
            "\n",
            "     Hip-Hop       0.58      0.65      0.61       235\n",
            "        Rock       0.91      0.89      0.90       966\n",
            "\n",
            "    accuracy                           0.84      1201\n",
            "   macro avg       0.75      0.77      0.76      1201\n",
            "weighted avg       0.85      0.84      0.84      1201\n",
            "\n",
            "Logistic Regression: \n",
            "               precision    recall  f1-score   support\n",
            "\n",
            "     Hip-Hop       0.53      0.81      0.64       235\n",
            "        Rock       0.95      0.83      0.88       966\n",
            "\n",
            "    accuracy                           0.82      1201\n",
            "   macro avg       0.74      0.82      0.76      1201\n",
            "weighted avg       0.86      0.82      0.83      1201\n",
            "\n"
          ],
          "name": "stdout"
        }
      ]
    },
    {
      "cell_type": "markdown",
      "metadata": {
        "id": "B6vCYQZrjwSD"
      },
      "source": [
        "**Balance our data for greater performance**\n",
        "\n",
        "Both our models do similarly well, boasting an average precision of 87% each. However, looking at our classification report, we can see that rock songs are fairly well classified, but hip-hop songs are disproportionately misclassified as rock songs.\n",
        "\n",
        "Why might this be the case? Well, just by looking at the number of data points we have for each class, we see that we have far more data points for the rock classification than for hip-hop, potentially skewing our model's ability to distinguish between classes. This also tells us that most of our model's accuracy is driven by its ability to classify just rock songs, which is less than ideal.\n",
        "\n",
        "To account for this, we can weight the value of a correct classification in each class inversely to the occurrence of data points for each class. Since a correct classification for \"Rock\" is not more important than a correct classification for \"Hip-Hop\" (and vice versa), we only need to account for differences in sample size of our data points when weighting our classes here, and not relative importance of each class."
      ]
    },
    {
      "cell_type": "code",
      "metadata": {
        "id": "HwlqRMfxjt4H"
      },
      "source": [
        "# Subset a balanced proportion of data points\n",
        "# hop_only = echo_tracks.loc[echo_tracks['genre_top'] == 'Hip-Hop']\n",
        "# rock_only = echo_tracks.loc[echo_tracks['genre_top'] == 'Rock']\n",
        "# rock_only.head()"
      ],
      "execution_count": 29,
      "outputs": []
    },
    {
      "cell_type": "code",
      "metadata": {
        "id": "WbaRb6byjzy3"
      },
      "source": [
        "# rock_only.shape, hop_only.shape"
      ],
      "execution_count": 30,
      "outputs": []
    },
    {
      "cell_type": "code",
      "metadata": {
        "id": "3IXn7Bj8j33i"
      },
      "source": [
        "# concatenate the dataframes rock_only and hop_only\n",
        "# rock_hop_bal = pd.concat([rock_only, hop_only])\n",
        "# rock_hop_bal.shape"
      ],
      "execution_count": 31,
      "outputs": []
    },
    {
      "cell_type": "code",
      "metadata": {
        "id": "JJANLa8Xj1-l"
      },
      "source": [
        "# sample the rocks songs to be the same number as there are hip-hop songs\n",
        "# rock_only = rock_only.sample(n= hop_only.shape[0],random_state=10)\n",
        "# rock_only.shape, hop_only.shape"
      ],
      "execution_count": 32,
      "outputs": []
    },
    {
      "cell_type": "code",
      "metadata": {
        "id": "urA1Fq0Sj6kI"
      },
      "source": [
        "# The features, labels, and pca projection are created for the balanced dataframe\n",
        "# features = rock_hop_bal.drop(['genre_top', 'track_id'], axis=1) \n",
        "# labels = rock_hop_bal['genre_top']\n",
        "# pca_projection = pca.fit_transform(scaler.fit_transform(features))\n",
        "\n",
        "# # Redefine the train and test set with the pca_projection from the balanced data\n",
        "# train_features, test_features, train_labels, test_labels = train_test_split(pca_projection,labels,random_state=10)"
      ],
      "execution_count": 33,
      "outputs": []
    },
    {
      "cell_type": "markdown",
      "metadata": {
        "id": "7lJiYxdFkAmN"
      },
      "source": [
        "**Does balancing our dataset improve model bias?**\n",
        "\n",
        "We've now balanced our dataset, but in doing so, we've removed a lot of data points that might have been crucial to training our models. Let's test to see if balancing our data improves model bias towards the \"Rock\" classification while retraining overall classification performance.\n",
        "\n",
        "Note that we have already reduced the size of our dataset and will go forward without applying any dimensionality reduction. In practice, we would consider dimensionality reduction more rigorously when dealing with vastly large datasets and when computation times become prohibitively large."
      ]
    },
    {
      "cell_type": "code",
      "metadata": {
        "id": "IRjFfA1Vj-DW",
        "colab": {
          "base_uri": "https://localhost:8080/"
        },
        "outputId": "e0adf8d6-7380-46ca-c304-6864335f81dd"
      },
      "source": [
        "# Train our decision tree on the balanced data\n",
        "tree = DecisionTreeClassifier(random_state=10)\n",
        "tree.fit(train_features, train_labels)\n",
        "pred_labels_tree = tree.predict(test_features)\n",
        "\n",
        "# Train our logistic regression on the balanced data\n",
        "logreg = LogisticRegression(random_state = 10)\n",
        "logreg.fit(train_features, train_labels)\n",
        "pred_labels_logit = logreg.predict(test_features)\n",
        "\n",
        "# Compare the models\n",
        "print(\"Decision Tree: \\n\", classification_report(test_labels, pred_labels_tree))\n",
        "print(\"Logistic Regression: \\n\", classification_report(test_labels, pred_labels_logit))"
      ],
      "execution_count": 34,
      "outputs": [
        {
          "output_type": "stream",
          "text": [
            "Decision Tree: \n",
            "               precision    recall  f1-score   support\n",
            "\n",
            "     Hip-Hop       0.58      0.65      0.61       235\n",
            "        Rock       0.91      0.89      0.90       966\n",
            "\n",
            "    accuracy                           0.84      1201\n",
            "   macro avg       0.75      0.77      0.76      1201\n",
            "weighted avg       0.85      0.84      0.84      1201\n",
            "\n",
            "Logistic Regression: \n",
            "               precision    recall  f1-score   support\n",
            "\n",
            "     Hip-Hop       0.53      0.81      0.64       235\n",
            "        Rock       0.95      0.83      0.88       966\n",
            "\n",
            "    accuracy                           0.82      1201\n",
            "   macro avg       0.74      0.82      0.76      1201\n",
            "weighted avg       0.86      0.82      0.83      1201\n",
            "\n"
          ],
          "name": "stdout"
        }
      ]
    },
    {
      "cell_type": "markdown",
      "metadata": {
        "id": "mby3oO2nkIST"
      },
      "source": [
        "**Using cross-validation to evaluate our models**\n",
        "\n",
        "Success! Balancing our data has removed bias towards the more prevalent class. To get a good sense of how well our models are actually performing, we can apply what's called cross-validation (CV). This step allows us to compare models in a more rigorous fashion.\n",
        "\n",
        "Since the way our data is split into train and test sets can impact model performance, CV attempts to split the data multiple ways and test the model on each of the splits. Although there are many different CV methods, all with their own advantages and disadvantages, we will use what's known as K-fold CV here. K-fold first splits the data into K different, equally sized subsets. Then, it iteratively uses each subset as a test set while using the remainder of the data as train sets. Finally, we can then aggregate the results from each fold for a final model performance score."
      ]
    },
    {
      "cell_type": "code",
      "metadata": {
        "id": "HW_HSxlWkEwl",
        "colab": {
          "base_uri": "https://localhost:8080/"
        },
        "outputId": "9c40d993-3045-4f8b-a81b-cb717e282e19"
      },
      "source": [
        "from sklearn.model_selection import KFold, cross_val_score\n",
        "\n",
        "# Set up our K-fold cross-validation\n",
        "kf = KFold(10)\n",
        "\n",
        "tree = DecisionTreeClassifier(random_state=10)\n",
        "logreg = LogisticRegression(random_state=10)\n",
        "\n",
        "# Train our models using KFold cv\n",
        "tree_score = cross_val_score(tree, pca_projection, labels, cv = kf)\n",
        "logit_score = cross_val_score(logreg, pca_projection, labels, cv = kf)\n",
        "\n",
        "# Print the mean of each array of scores\n",
        "print(\"Decision Tree:\", np.mean(tree_score),\"Logistic Regression:\", np.mean(logit_score))"
      ],
      "execution_count": 35,
      "outputs": [
        {
          "output_type": "stream",
          "text": [
            "Decision Tree: 0.8537937456687457 Logistic Regression: 0.86627079002079\n"
          ],
          "name": "stdout"
        }
      ]
    },
    {
      "cell_type": "markdown",
      "metadata": {
        "id": "nU0vrc_0kTez"
      },
      "source": [
        "We can see here that our simple Logistic Regression model performed better than the Decision tree model on the balanced Data. We can try more advanced models like Random Forest and SVM later to see if we can improved our results."
      ]
    }
  ]
}